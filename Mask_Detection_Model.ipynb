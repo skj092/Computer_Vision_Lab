{
  "nbformat": 4,
  "nbformat_minor": 0,
  "metadata": {
    "colab": {
      "name": "Mask_Detection_Model.ipynb",
      "provenance": [],
      "authorship_tag": "ABX9TyOsg3CiV/af/9v7SMm9Wccs",
      "include_colab_link": true
    },
    "kernelspec": {
      "name": "python3",
      "display_name": "Python 3"
    },
    "language_info": {
      "name": "python"
    },
    "accelerator": "GPU",
    "gpuClass": "standard",
    "widgets": {
      "application/vnd.jupyter.widget-state+json": {
        "d516d58920224b2b947a3d1c299cff00": {
          "model_module": "@jupyter-widgets/controls",
          "model_name": "HBoxModel",
          "model_module_version": "1.5.0",
          "state": {
            "_dom_classes": [],
            "_model_module": "@jupyter-widgets/controls",
            "_model_module_version": "1.5.0",
            "_model_name": "HBoxModel",
            "_view_count": null,
            "_view_module": "@jupyter-widgets/controls",
            "_view_module_version": "1.5.0",
            "_view_name": "HBoxView",
            "box_style": "",
            "children": [
              "IPY_MODEL_1496182813d04eaebc21b09e4c862e99",
              "IPY_MODEL_90cbe88f4c9b48b9bc05262dc5045daa",
              "IPY_MODEL_ddec37cf38a64b74bd462209c981c3c3"
            ],
            "layout": "IPY_MODEL_d5653ea578174f5997bd2431df1d1bc9"
          }
        },
        "1496182813d04eaebc21b09e4c862e99": {
          "model_module": "@jupyter-widgets/controls",
          "model_name": "HTMLModel",
          "model_module_version": "1.5.0",
          "state": {
            "_dom_classes": [],
            "_model_module": "@jupyter-widgets/controls",
            "_model_module_version": "1.5.0",
            "_model_name": "HTMLModel",
            "_view_count": null,
            "_view_module": "@jupyter-widgets/controls",
            "_view_module_version": "1.5.0",
            "_view_name": "HTMLView",
            "description": "",
            "description_tooltip": null,
            "layout": "IPY_MODEL_677c29b3739c49dfb780b4a8c91a9f92",
            "placeholder": "​",
            "style": "IPY_MODEL_09303065250e4f4cb7809f527ea88e41",
            "value": "100%"
          }
        },
        "90cbe88f4c9b48b9bc05262dc5045daa": {
          "model_module": "@jupyter-widgets/controls",
          "model_name": "FloatProgressModel",
          "model_module_version": "1.5.0",
          "state": {
            "_dom_classes": [],
            "_model_module": "@jupyter-widgets/controls",
            "_model_module_version": "1.5.0",
            "_model_name": "FloatProgressModel",
            "_view_count": null,
            "_view_module": "@jupyter-widgets/controls",
            "_view_module_version": "1.5.0",
            "_view_name": "ProgressView",
            "bar_style": "success",
            "description": "",
            "description_tooltip": null,
            "layout": "IPY_MODEL_34fdd575dc954b6fbbfccf0ba9cd462d",
            "max": 167502836,
            "min": 0,
            "orientation": "horizontal",
            "style": "IPY_MODEL_b92677f03ad440058319d0465f757fcd",
            "value": 167502836
          }
        },
        "ddec37cf38a64b74bd462209c981c3c3": {
          "model_module": "@jupyter-widgets/controls",
          "model_name": "HTMLModel",
          "model_module_version": "1.5.0",
          "state": {
            "_dom_classes": [],
            "_model_module": "@jupyter-widgets/controls",
            "_model_module_version": "1.5.0",
            "_model_name": "HTMLModel",
            "_view_count": null,
            "_view_module": "@jupyter-widgets/controls",
            "_view_module_version": "1.5.0",
            "_view_name": "HTMLView",
            "description": "",
            "description_tooltip": null,
            "layout": "IPY_MODEL_0bec9734264344b6ac699076c3835494",
            "placeholder": "​",
            "style": "IPY_MODEL_21546b98867442529a30d43791cdc39b",
            "value": " 160M/160M [00:02&lt;00:00, 44.6MB/s]"
          }
        },
        "d5653ea578174f5997bd2431df1d1bc9": {
          "model_module": "@jupyter-widgets/base",
          "model_name": "LayoutModel",
          "model_module_version": "1.2.0",
          "state": {
            "_model_module": "@jupyter-widgets/base",
            "_model_module_version": "1.2.0",
            "_model_name": "LayoutModel",
            "_view_count": null,
            "_view_module": "@jupyter-widgets/base",
            "_view_module_version": "1.2.0",
            "_view_name": "LayoutView",
            "align_content": null,
            "align_items": null,
            "align_self": null,
            "border": null,
            "bottom": null,
            "display": null,
            "flex": null,
            "flex_flow": null,
            "grid_area": null,
            "grid_auto_columns": null,
            "grid_auto_flow": null,
            "grid_auto_rows": null,
            "grid_column": null,
            "grid_gap": null,
            "grid_row": null,
            "grid_template_areas": null,
            "grid_template_columns": null,
            "grid_template_rows": null,
            "height": null,
            "justify_content": null,
            "justify_items": null,
            "left": null,
            "margin": null,
            "max_height": null,
            "max_width": null,
            "min_height": null,
            "min_width": null,
            "object_fit": null,
            "object_position": null,
            "order": null,
            "overflow": null,
            "overflow_x": null,
            "overflow_y": null,
            "padding": null,
            "right": null,
            "top": null,
            "visibility": null,
            "width": null
          }
        },
        "677c29b3739c49dfb780b4a8c91a9f92": {
          "model_module": "@jupyter-widgets/base",
          "model_name": "LayoutModel",
          "model_module_version": "1.2.0",
          "state": {
            "_model_module": "@jupyter-widgets/base",
            "_model_module_version": "1.2.0",
            "_model_name": "LayoutModel",
            "_view_count": null,
            "_view_module": "@jupyter-widgets/base",
            "_view_module_version": "1.2.0",
            "_view_name": "LayoutView",
            "align_content": null,
            "align_items": null,
            "align_self": null,
            "border": null,
            "bottom": null,
            "display": null,
            "flex": null,
            "flex_flow": null,
            "grid_area": null,
            "grid_auto_columns": null,
            "grid_auto_flow": null,
            "grid_auto_rows": null,
            "grid_column": null,
            "grid_gap": null,
            "grid_row": null,
            "grid_template_areas": null,
            "grid_template_columns": null,
            "grid_template_rows": null,
            "height": null,
            "justify_content": null,
            "justify_items": null,
            "left": null,
            "margin": null,
            "max_height": null,
            "max_width": null,
            "min_height": null,
            "min_width": null,
            "object_fit": null,
            "object_position": null,
            "order": null,
            "overflow": null,
            "overflow_x": null,
            "overflow_y": null,
            "padding": null,
            "right": null,
            "top": null,
            "visibility": null,
            "width": null
          }
        },
        "09303065250e4f4cb7809f527ea88e41": {
          "model_module": "@jupyter-widgets/controls",
          "model_name": "DescriptionStyleModel",
          "model_module_version": "1.5.0",
          "state": {
            "_model_module": "@jupyter-widgets/controls",
            "_model_module_version": "1.5.0",
            "_model_name": "DescriptionStyleModel",
            "_view_count": null,
            "_view_module": "@jupyter-widgets/base",
            "_view_module_version": "1.2.0",
            "_view_name": "StyleView",
            "description_width": ""
          }
        },
        "34fdd575dc954b6fbbfccf0ba9cd462d": {
          "model_module": "@jupyter-widgets/base",
          "model_name": "LayoutModel",
          "model_module_version": "1.2.0",
          "state": {
            "_model_module": "@jupyter-widgets/base",
            "_model_module_version": "1.2.0",
            "_model_name": "LayoutModel",
            "_view_count": null,
            "_view_module": "@jupyter-widgets/base",
            "_view_module_version": "1.2.0",
            "_view_name": "LayoutView",
            "align_content": null,
            "align_items": null,
            "align_self": null,
            "border": null,
            "bottom": null,
            "display": null,
            "flex": null,
            "flex_flow": null,
            "grid_area": null,
            "grid_auto_columns": null,
            "grid_auto_flow": null,
            "grid_auto_rows": null,
            "grid_column": null,
            "grid_gap": null,
            "grid_row": null,
            "grid_template_areas": null,
            "grid_template_columns": null,
            "grid_template_rows": null,
            "height": null,
            "justify_content": null,
            "justify_items": null,
            "left": null,
            "margin": null,
            "max_height": null,
            "max_width": null,
            "min_height": null,
            "min_width": null,
            "object_fit": null,
            "object_position": null,
            "order": null,
            "overflow": null,
            "overflow_x": null,
            "overflow_y": null,
            "padding": null,
            "right": null,
            "top": null,
            "visibility": null,
            "width": null
          }
        },
        "b92677f03ad440058319d0465f757fcd": {
          "model_module": "@jupyter-widgets/controls",
          "model_name": "ProgressStyleModel",
          "model_module_version": "1.5.0",
          "state": {
            "_model_module": "@jupyter-widgets/controls",
            "_model_module_version": "1.5.0",
            "_model_name": "ProgressStyleModel",
            "_view_count": null,
            "_view_module": "@jupyter-widgets/base",
            "_view_module_version": "1.2.0",
            "_view_name": "StyleView",
            "bar_color": null,
            "description_width": ""
          }
        },
        "0bec9734264344b6ac699076c3835494": {
          "model_module": "@jupyter-widgets/base",
          "model_name": "LayoutModel",
          "model_module_version": "1.2.0",
          "state": {
            "_model_module": "@jupyter-widgets/base",
            "_model_module_version": "1.2.0",
            "_model_name": "LayoutModel",
            "_view_count": null,
            "_view_module": "@jupyter-widgets/base",
            "_view_module_version": "1.2.0",
            "_view_name": "LayoutView",
            "align_content": null,
            "align_items": null,
            "align_self": null,
            "border": null,
            "bottom": null,
            "display": null,
            "flex": null,
            "flex_flow": null,
            "grid_area": null,
            "grid_auto_columns": null,
            "grid_auto_flow": null,
            "grid_auto_rows": null,
            "grid_column": null,
            "grid_gap": null,
            "grid_row": null,
            "grid_template_areas": null,
            "grid_template_columns": null,
            "grid_template_rows": null,
            "height": null,
            "justify_content": null,
            "justify_items": null,
            "left": null,
            "margin": null,
            "max_height": null,
            "max_width": null,
            "min_height": null,
            "min_width": null,
            "object_fit": null,
            "object_position": null,
            "order": null,
            "overflow": null,
            "overflow_x": null,
            "overflow_y": null,
            "padding": null,
            "right": null,
            "top": null,
            "visibility": null,
            "width": null
          }
        },
        "21546b98867442529a30d43791cdc39b": {
          "model_module": "@jupyter-widgets/controls",
          "model_name": "DescriptionStyleModel",
          "model_module_version": "1.5.0",
          "state": {
            "_model_module": "@jupyter-widgets/controls",
            "_model_module_version": "1.5.0",
            "_model_name": "DescriptionStyleModel",
            "_view_count": null,
            "_view_module": "@jupyter-widgets/base",
            "_view_module_version": "1.2.0",
            "_view_name": "StyleView",
            "description_width": ""
          }
        }
      }
    }
  },
  "cells": [
    {
      "cell_type": "markdown",
      "metadata": {
        "id": "view-in-github",
        "colab_type": "text"
      },
      "source": [
        "<a href=\"https://colab.research.google.com/github/skj092/Computer_Vision_Lab/blob/main/Mask_Detection_Model.ipynb\" target=\"_parent\"><img src=\"https://colab.research.google.com/assets/colab-badge.svg\" alt=\"Open In Colab\"/></a>"
      ]
    },
    {
      "cell_type": "code",
      "execution_count": 4,
      "metadata": {
        "colab": {
          "base_uri": "https://localhost:8080/"
        },
        "id": "57uDSFH8yyWn",
        "outputId": "0423bae5-d8b3-4871-b7b0-95a7b7dc1e35"
      },
      "outputs": [
        {
          "output_type": "stream",
          "name": "stdout",
          "text": [
            "Cloning into 'vision'...\n",
            "remote: Enumerating objects: 175725, done.\u001b[K\n",
            "remote: Counting objects: 100% (8088/8088), done.\u001b[K\n",
            "remote: Compressing objects: 100% (572/572), done.\u001b[K\n",
            "remote: Total 175725 (delta 7594), reused 7944 (delta 7499), pack-reused 167637\u001b[K\n",
            "Receiving objects: 100% (175725/175725), 346.36 MiB | 38.49 MiB/s, done.\n",
            "Resolving deltas: 100% (157214/157214), done.\n",
            "fatal: not a git repository (or any of the parent directories): .git\n"
          ]
        }
      ],
      "source": [
        "!pip install pycocotools --quiet\n",
        "!git clone https://github.com/pytorch/vision.git\n",
        "!git checkout v0.3.0\n",
        "\n",
        "!cp vision/references/detection/utils.py ./\n",
        "!cp vision/references/detection/transforms.py ./\n",
        "!cp vision/references/detection/coco_eval.py ./\n",
        "!cp vision/references/detection/engine.py ./\n",
        "!cp vision/references/detection/coco_utils.py ./"
      ]
    },
    {
      "cell_type": "code",
      "source": [
        "!pip install --upgrade albumentations"
      ],
      "metadata": {
        "colab": {
          "base_uri": "https://localhost:8080/",
          "height": 676
        },
        "id": "wrx9ptEj0XkH",
        "outputId": "2f0a236d-52ae-4c8f-8afc-16eb0ca45b1a"
      },
      "execution_count": 2,
      "outputs": [
        {
          "output_type": "stream",
          "name": "stdout",
          "text": [
            "Looking in indexes: https://pypi.org/simple, https://us-python.pkg.dev/colab-wheels/public/simple/\n",
            "Requirement already satisfied: albumentations in /usr/local/lib/python3.7/dist-packages (0.1.12)\n",
            "Collecting albumentations\n",
            "  Downloading albumentations-1.2.1-py3-none-any.whl (116 kB)\n",
            "\u001b[K     |████████████████████████████████| 116 kB 29.1 MB/s \n",
            "\u001b[?25hCollecting qudida>=0.0.4\n",
            "  Downloading qudida-0.0.4-py3-none-any.whl (3.5 kB)\n",
            "Requirement already satisfied: scipy in /usr/local/lib/python3.7/dist-packages (from albumentations) (1.7.3)\n",
            "Requirement already satisfied: numpy>=1.11.1 in /usr/local/lib/python3.7/dist-packages (from albumentations) (1.21.6)\n",
            "Requirement already satisfied: scikit-image>=0.16.1 in /usr/local/lib/python3.7/dist-packages (from albumentations) (0.18.3)\n",
            "Requirement already satisfied: PyYAML in /usr/local/lib/python3.7/dist-packages (from albumentations) (3.13)\n",
            "Requirement already satisfied: opencv-python-headless>=4.1.1 in /usr/local/lib/python3.7/dist-packages (from albumentations) (4.1.2.30)\n",
            "Requirement already satisfied: typing-extensions in /usr/local/lib/python3.7/dist-packages (from qudida>=0.0.4->albumentations) (4.1.1)\n",
            "Requirement already satisfied: scikit-learn>=0.19.1 in /usr/local/lib/python3.7/dist-packages (from qudida>=0.0.4->albumentations) (1.0.2)\n",
            "Requirement already satisfied: PyWavelets>=1.1.1 in /usr/local/lib/python3.7/dist-packages (from scikit-image>=0.16.1->albumentations) (1.3.0)\n",
            "Requirement already satisfied: networkx>=2.0 in /usr/local/lib/python3.7/dist-packages (from scikit-image>=0.16.1->albumentations) (2.6.3)\n",
            "Requirement already satisfied: matplotlib!=3.0.0,>=2.0.0 in /usr/local/lib/python3.7/dist-packages (from scikit-image>=0.16.1->albumentations) (3.2.2)\n",
            "Requirement already satisfied: pillow!=7.1.0,!=7.1.1,>=4.3.0 in /usr/local/lib/python3.7/dist-packages (from scikit-image>=0.16.1->albumentations) (7.1.2)\n",
            "Requirement already satisfied: tifffile>=2019.7.26 in /usr/local/lib/python3.7/dist-packages (from scikit-image>=0.16.1->albumentations) (2021.11.2)\n",
            "Requirement already satisfied: imageio>=2.3.0 in /usr/local/lib/python3.7/dist-packages (from scikit-image>=0.16.1->albumentations) (2.4.1)\n",
            "Requirement already satisfied: python-dateutil>=2.1 in /usr/local/lib/python3.7/dist-packages (from matplotlib!=3.0.0,>=2.0.0->scikit-image>=0.16.1->albumentations) (2.8.2)\n",
            "Requirement already satisfied: cycler>=0.10 in /usr/local/lib/python3.7/dist-packages (from matplotlib!=3.0.0,>=2.0.0->scikit-image>=0.16.1->albumentations) (0.11.0)\n",
            "Requirement already satisfied: kiwisolver>=1.0.1 in /usr/local/lib/python3.7/dist-packages (from matplotlib!=3.0.0,>=2.0.0->scikit-image>=0.16.1->albumentations) (1.4.3)\n",
            "Requirement already satisfied: pyparsing!=2.0.4,!=2.1.2,!=2.1.6,>=2.0.1 in /usr/local/lib/python3.7/dist-packages (from matplotlib!=3.0.0,>=2.0.0->scikit-image>=0.16.1->albumentations) (3.0.9)\n",
            "Requirement already satisfied: six>=1.5 in /usr/local/lib/python3.7/dist-packages (from python-dateutil>=2.1->matplotlib!=3.0.0,>=2.0.0->scikit-image>=0.16.1->albumentations) (1.15.0)\n",
            "Requirement already satisfied: threadpoolctl>=2.0.0 in /usr/local/lib/python3.7/dist-packages (from scikit-learn>=0.19.1->qudida>=0.0.4->albumentations) (3.1.0)\n",
            "Requirement already satisfied: joblib>=0.11 in /usr/local/lib/python3.7/dist-packages (from scikit-learn>=0.19.1->qudida>=0.0.4->albumentations) (1.1.0)\n",
            "Installing collected packages: qudida, albumentations\n",
            "  Attempting uninstall: albumentations\n",
            "    Found existing installation: albumentations 0.1.12\n",
            "    Uninstalling albumentations-0.1.12:\n",
            "      Successfully uninstalled albumentations-0.1.12\n",
            "Successfully installed albumentations-1.2.1 qudida-0.0.4\n"
          ]
        },
        {
          "output_type": "display_data",
          "data": {
            "application/vnd.colab-display-data+json": {
              "pip_warning": {
                "packages": [
                  "albumentations"
                ]
              }
            }
          },
          "metadata": {}
        }
      ]
    },
    {
      "cell_type": "code",
      "source": [
        "!pip uninstall opencv-python-headless -y"
      ],
      "metadata": {
        "id": "3I1m8nca22PV",
        "outputId": "daca3f18-83db-4578-ab6a-ce23308d6ded",
        "colab": {
          "base_uri": "https://localhost:8080/"
        }
      },
      "execution_count": 5,
      "outputs": [
        {
          "output_type": "stream",
          "name": "stdout",
          "text": [
            "\u001b[33mWARNING: Skipping opencv-python-headless as it is not installed.\u001b[0m\n"
          ]
        }
      ]
    },
    {
      "cell_type": "code",
      "source": [
        "!pip install opencv-python-headless==4.1.2.30"
      ],
      "metadata": {
        "id": "xniWyEqr24aV",
        "outputId": "b7a5f8a2-4c6a-496d-ccfb-3f7df2328fea",
        "colab": {
          "base_uri": "https://localhost:8080/",
          "height": 225
        }
      },
      "execution_count": 6,
      "outputs": [
        {
          "output_type": "stream",
          "name": "stdout",
          "text": [
            "Looking in indexes: https://pypi.org/simple, https://us-python.pkg.dev/colab-wheels/public/simple/\n",
            "Collecting opencv-python-headless==4.1.2.30\n",
            "  Downloading opencv_python_headless-4.1.2.30-cp37-cp37m-manylinux1_x86_64.whl (21.8 MB)\n",
            "\u001b[K     |████████████████████████████████| 21.8 MB 1.4 MB/s \n",
            "\u001b[?25hRequirement already satisfied: numpy>=1.14.5 in /usr/local/lib/python3.7/dist-packages (from opencv-python-headless==4.1.2.30) (1.21.6)\n",
            "Installing collected packages: opencv-python-headless\n",
            "Successfully installed opencv-python-headless-4.1.2.30\n"
          ]
        },
        {
          "output_type": "display_data",
          "data": {
            "application/vnd.colab-display-data+json": {
              "pip_warning": {
                "packages": [
                  "cv2"
                ]
              }
            }
          },
          "metadata": {}
        }
      ]
    },
    {
      "cell_type": "code",
      "source": [
        "# Importing necessary libraries \n",
        "\n",
        "import os \n",
        "from pathlib import Path \n",
        "import xml.etree.ElementTree as ET \n",
        "from torch.utils.data import Dataset\n",
        "from PIL import Image\n",
        "import torch \n",
        "import albumentations as A\n",
        "from albumentations.pytorch.transforms import ToTensorV2\n",
        "import numpy as np\n",
        "import cv2 \n",
        "from torch.utils.data import DataLoader\n",
        "import matplotlib.pyplot as plt\n",
        "from torchvision.models.detection.faster_rcnn import FastRCNNPredictor\n",
        "import torchvision\n",
        "\n",
        "# these are the helper libraries imported.\n",
        "from engine import train_one_epoch, evaluate\n",
        "import utils\n",
        "import transforms as T"
      ],
      "metadata": {
        "id": "CYTlPSvdy6U7"
      },
      "execution_count": 1,
      "outputs": []
    },
    {
      "cell_type": "markdown",
      "source": [
        "# Downloading the dataset"
      ],
      "metadata": {
        "id": "nWwPKHk4zBY6"
      }
    },
    {
      "cell_type": "code",
      "source": [
        " %%bash\n",
        "\n",
        "wget \"https://public.roboflow.com/ds/kQQWZNGxGA?key=65kkvLv3xW\" -O data.zip \n",
        "\n",
        "unzip -q data.zip\n",
        "\n",
        "rm data.zip \n",
        "\n",
        "ls"
      ],
      "metadata": {
        "id": "CmJavTJTzIXC"
      },
      "execution_count": null,
      "outputs": []
    },
    {
      "cell_type": "markdown",
      "source": [
        "# Define Transform "
      ],
      "metadata": {
        "id": "FABxjneCzOvK"
      }
    },
    {
      "cell_type": "code",
      "source": [
        "import torchvision.transforms as T\n",
        "\n",
        "def get_transform(train):\n",
        "    transforms = []\n",
        "    transforms.append(T.ToTensor())\n",
        "    if train:\n",
        "        transforms.append(T.RandomHorizontalFlip(0.5))\n",
        "    return T.Compose(transforms)"
      ],
      "metadata": {
        "id": "-5KdDdTP3LOV"
      },
      "execution_count": 3,
      "outputs": []
    },
    {
      "cell_type": "code",
      "source": [
        "class MaskDetectionDataset(Dataset):\n",
        "    def __init__(self, root, transforms=None):\n",
        "        self.root = Path(root)\n",
        "        self.transforms = transforms\n",
        "        self.image_paths = list(self.root.glob('*.jpg'))\n",
        "        self.image_paths.sort()\n",
        "        self.mask_paths = [p.parent / (p.stem + '.xml') for p in self.image_paths]\n",
        "\n",
        "    def __getitem__(self, idx):\n",
        "        image_path = self.image_paths[idx]\n",
        "        mask_path = self.mask_paths[idx]\n",
        "        image = cv2.imread(str(image_path))\n",
        "        image = cv2.cvtColor(image, cv2.COLOR_BGR2RGB)\n",
        "        \n",
        "        # Parsing xml to get the labels and the bounding boxes\n",
        "        annotation = ET.parse(mask_path)\n",
        "        root = annotation.getroot()\n",
        "        objects = root.findall('object')\n",
        "        boxes = []\n",
        "        labels = []\n",
        "        for obj in objects:\n",
        "            name = obj.find('name').text\n",
        "            bbox = obj.find('bndbox')\n",
        "            xmin = int(bbox.find('xmin').text)\n",
        "            ymin = int(bbox.find('ymin').text)\n",
        "            xmax = int(bbox.find('xmax').text)\n",
        "            ymax = int(bbox.find('ymax').text)\n",
        "            boxes.append([xmin, ymin, xmax, ymax])\n",
        "            labels.append(name)\n",
        "\n",
        "        # Converting the labels and the bounding boxes to tensors\n",
        "        boxes = torch.as_tensor(boxes, dtype=torch.float32)\n",
        "        labels = list(map(lambda x: 1 if x == 'mask' else 0, labels))\n",
        "        labels = torch.as_tensor(labels)\n",
        "        image_id = torch.tensor([idx])\n",
        "\n",
        "        # Other parameters\n",
        "        area = (boxes[:, 3] - boxes[:, 1]) * (boxes[:, 2] - boxes[:, 0])\n",
        "        iscrowd = torch.zeros((len(labels),), dtype=torch.int64)\n",
        "\n",
        "        # Creating the tensor for the dataset\n",
        "        target = {}\n",
        "        target['boxes'] = boxes\n",
        "        target['labels'] = labels\n",
        "        target['image_id'] = image_id\n",
        "        target['area'] = area\n",
        "        target['iscrowd'] = iscrowd\n",
        "\n",
        "        # Applying the transforms\n",
        "        if self.transforms is not None:\n",
        "          image = self.transforms(image)\n",
        "\n",
        "        return image, target\n",
        "\n",
        "\n",
        "    def __len__(self):\n",
        "        return len(self.image_paths)"
      ],
      "metadata": {
        "id": "q0OlIiQc3Lma"
      },
      "execution_count": 4,
      "outputs": []
    },
    {
      "cell_type": "code",
      "source": [
        "def get_object_detection_model(num_classes):\n",
        "\n",
        "    # load a model pre-trained pre-trained on COCO\n",
        "    model = torchvision.models.detection.fasterrcnn_resnet50_fpn(pretrained=True)\n",
        "    \n",
        "    # get number of input features for the classifier\n",
        "    in_features = model.roi_heads.box_predictor.cls_score.in_features\n",
        "    # replace the pre-trained head with a new one\n",
        "    model.roi_heads.box_predictor = FastRCNNPredictor(in_features, num_classes) \n",
        "\n",
        "    return model"
      ],
      "metadata": {
        "id": "zopPQyGR3jNQ"
      },
      "execution_count": 5,
      "outputs": []
    },
    {
      "cell_type": "code",
      "source": [
        "train_ds = MaskDetectionDataset(root='train/', transforms=get_transform(train=True))\n",
        "valid_ds = MaskDetectionDataset(root='valid/', transforms=get_transform(train=False))\n",
        "\n",
        "train_dl = DataLoader(train_ds, batch_size=2, shuffle=True, num_workers=0, collate_fn=utils.collate_fn)\n",
        "valid_dl = DataLoader(valid_ds, batch_size=2, shuffle=True, num_workers=0, collate_fn=utils.collate_fn)\n",
        "\n",
        "\n",
        "# to train on gpu if selected.\n",
        "device = torch.device('cuda') if torch.cuda.is_available() else torch.device('cpu')\n",
        "\n",
        "\n",
        "num_classes = 2\n",
        "\n",
        "# get the model using our helper function\n",
        "model = get_object_detection_model(num_classes)\n",
        "\n",
        "# move model to the right device\n",
        "model.to(device)\n",
        "\n",
        "# construct an optimizer\n",
        "params = [p for p in model.parameters() if p.requires_grad]\n",
        "optimizer = torch.optim.SGD(params, lr=0.005,\n",
        "                            momentum=0.9, weight_decay=0.0005)\n",
        "\n",
        "# and a learning rate scheduler which decreases the learning rate by\n",
        "# 10x every 3 epochs\n",
        "lr_scheduler = torch.optim.lr_scheduler.StepLR(optimizer,\n",
        "                                            step_size=3,\n",
        "                                            gamma=0.1)"
      ],
      "metadata": {
        "id": "7gCcL9b8aotW",
        "outputId": "0fe32a86-0d84-43d0-9350-29e8e594b42a",
        "colab": {
          "base_uri": "https://localhost:8080/",
          "height": 156,
          "referenced_widgets": [
            "d516d58920224b2b947a3d1c299cff00",
            "1496182813d04eaebc21b09e4c862e99",
            "90cbe88f4c9b48b9bc05262dc5045daa",
            "ddec37cf38a64b74bd462209c981c3c3",
            "d5653ea578174f5997bd2431df1d1bc9",
            "677c29b3739c49dfb780b4a8c91a9f92",
            "09303065250e4f4cb7809f527ea88e41",
            "34fdd575dc954b6fbbfccf0ba9cd462d",
            "b92677f03ad440058319d0465f757fcd",
            "0bec9734264344b6ac699076c3835494",
            "21546b98867442529a30d43791cdc39b"
          ]
        }
      },
      "execution_count": 6,
      "outputs": [
        {
          "output_type": "stream",
          "name": "stderr",
          "text": [
            "/usr/local/lib/python3.7/dist-packages/torchvision/models/_utils.py:209: UserWarning: The parameter 'pretrained' is deprecated since 0.13 and will be removed in 0.15, please use 'weights' instead.\n",
            "  f\"The parameter '{pretrained_param}' is deprecated since 0.13 and will be removed in 0.15, \"\n",
            "/usr/local/lib/python3.7/dist-packages/torchvision/models/_utils.py:223: UserWarning: Arguments other than a weight enum or `None` for 'weights' are deprecated since 0.13 and will be removed in 0.15. The current behavior is equivalent to passing `weights=FasterRCNN_ResNet50_FPN_Weights.COCO_V1`. You can also use `weights=FasterRCNN_ResNet50_FPN_Weights.DEFAULT` to get the most up-to-date weights.\n",
            "  warnings.warn(msg)\n",
            "Downloading: \"https://download.pytorch.org/models/fasterrcnn_resnet50_fpn_coco-258fb6c6.pth\" to /root/.cache/torch/hub/checkpoints/fasterrcnn_resnet50_fpn_coco-258fb6c6.pth\n"
          ]
        },
        {
          "output_type": "display_data",
          "data": {
            "text/plain": [
              "  0%|          | 0.00/160M [00:00<?, ?B/s]"
            ],
            "application/vnd.jupyter.widget-view+json": {
              "version_major": 2,
              "version_minor": 0,
              "model_id": "d516d58920224b2b947a3d1c299cff00"
            }
          },
          "metadata": {}
        }
      ]
    },
    {
      "cell_type": "code",
      "source": [
        "# training for 10 epochs\n",
        "num_epochs = 10\n",
        "\n",
        "for epoch in range(num_epochs):\n",
        "    # training for one epoch\n",
        "    train_one_epoch(model, optimizer, train_dl, device, epoch, print_freq=10)\n",
        "    # update the learning rate\n",
        "    lr_scheduler.step()\n",
        "    # evaluate on the test dataset\n",
        "    evaluate(model, valid_dl, device=device)"
      ],
      "metadata": {
        "id": "HclIhAf2av1K",
        "outputId": "d3422950-53cb-44b2-fda7-3f6ea1ed9e34",
        "colab": {
          "base_uri": "https://localhost:8080/"
        }
      },
      "execution_count": 7,
      "outputs": [
        {
          "output_type": "stream",
          "name": "stdout",
          "text": [
            "Epoch: [0]  [ 0/52]  eta: 0:06:56  lr: 0.000103  loss: 1.3373 (1.3373)  loss_classifier: 0.7559 (0.7559)  loss_box_reg: 0.2927 (0.2927)  loss_objectness: 0.2608 (0.2608)  loss_rpn_box_reg: 0.0279 (0.0279)  time: 8.0022  data: 0.0560  max mem: 2573\n",
            "Epoch: [0]  [10/52]  eta: 0:00:53  lr: 0.001082  loss: 0.9786 (0.9326)  loss_classifier: 0.4628 (0.4857)  loss_box_reg: 0.1836 (0.2323)  loss_objectness: 0.1764 (0.1890)  loss_rpn_box_reg: 0.0206 (0.0256)  time: 1.2706  data: 0.0457  max mem: 3631\n",
            "Epoch: [0]  [20/52]  eta: 0:00:30  lr: 0.002062  loss: 0.6915 (0.8609)  loss_classifier: 0.3356 (0.4224)  loss_box_reg: 0.2410 (0.2758)  loss_objectness: 0.0807 (0.1405)  loss_rpn_box_reg: 0.0195 (0.0222)  time: 0.6141  data: 0.0406  max mem: 4051\n",
            "Epoch: [0]  [30/52]  eta: 0:00:18  lr: 0.003041  loss: 0.6063 (0.7815)  loss_classifier: 0.2407 (0.3515)  loss_box_reg: 0.2574 (0.2639)  loss_objectness: 0.0585 (0.1438)  loss_rpn_box_reg: 0.0155 (0.0224)  time: 0.6102  data: 0.0369  max mem: 4051\n",
            "Epoch: [0]  [40/52]  eta: 0:00:09  lr: 0.004021  loss: 0.6665 (0.8032)  loss_classifier: 0.2370 (0.3349)  loss_box_reg: 0.3068 (0.3152)  loss_objectness: 0.0685 (0.1297)  loss_rpn_box_reg: 0.0179 (0.0233)  time: 0.5925  data: 0.0502  max mem: 4051\n",
            "Epoch: [0]  [50/52]  eta: 0:00:01  lr: 0.005000  loss: 0.6795 (0.7575)  loss_classifier: 0.2452 (0.3095)  loss_box_reg: 0.3435 (0.3067)  loss_objectness: 0.0564 (0.1196)  loss_rpn_box_reg: 0.0177 (0.0217)  time: 0.6188  data: 0.0639  max mem: 4051\n",
            "Epoch: [0]  [51/52]  eta: 0:00:00  lr: 0.005000  loss: 0.6833 (0.7561)  loss_classifier: 0.2452 (0.3079)  loss_box_reg: 0.3435 (0.3063)  loss_objectness: 0.0564 (0.1198)  loss_rpn_box_reg: 0.0177 (0.0220)  time: 0.6210  data: 0.0645  max mem: 4051\n",
            "Epoch: [0] Total time: 0:00:39 (0.7531 s / it)\n",
            "creating index...\n",
            "index created!\n",
            "Test:  [ 0/15]  eta: 0:00:05  model_time: 0.2375 (0.2375)  evaluator_time: 0.0842 (0.0842)  time: 0.3639  data: 0.0374  max mem: 4051\n",
            "Test:  [14/15]  eta: 0:00:00  model_time: 0.2304 (0.2388)  evaluator_time: 0.0074 (0.0153)  time: 0.2866  data: 0.0285  max mem: 4051\n",
            "Test: Total time: 0:00:04 (0.2868 s / it)\n",
            "Averaged stats: model_time: 0.2304 (0.2388)  evaluator_time: 0.0074 (0.0153)\n",
            "Accumulating evaluation results...\n",
            "DONE (t=0.02s).\n",
            "IoU metric: bbox\n",
            " Average Precision  (AP) @[ IoU=0.50:0.95 | area=   all | maxDets=100 ] = 0.133\n",
            " Average Precision  (AP) @[ IoU=0.50      | area=   all | maxDets=100 ] = 0.288\n",
            " Average Precision  (AP) @[ IoU=0.75      | area=   all | maxDets=100 ] = 0.099\n",
            " Average Precision  (AP) @[ IoU=0.50:0.95 | area= small | maxDets=100 ] = 0.000\n",
            " Average Precision  (AP) @[ IoU=0.50:0.95 | area=medium | maxDets=100 ] = 0.068\n",
            " Average Precision  (AP) @[ IoU=0.50:0.95 | area= large | maxDets=100 ] = 0.186\n",
            " Average Recall     (AR) @[ IoU=0.50:0.95 | area=   all | maxDets=  1 ] = 0.051\n",
            " Average Recall     (AR) @[ IoU=0.50:0.95 | area=   all | maxDets= 10 ] = 0.174\n",
            " Average Recall     (AR) @[ IoU=0.50:0.95 | area=   all | maxDets=100 ] = 0.211\n",
            " Average Recall     (AR) @[ IoU=0.50:0.95 | area= small | maxDets=100 ] = 0.000\n",
            " Average Recall     (AR) @[ IoU=0.50:0.95 | area=medium | maxDets=100 ] = 0.121\n",
            " Average Recall     (AR) @[ IoU=0.50:0.95 | area= large | maxDets=100 ] = 0.284\n",
            "Epoch: [1]  [ 0/52]  eta: 0:00:30  lr: 0.005000  loss: 0.6299 (0.6299)  loss_classifier: 0.2779 (0.2779)  loss_box_reg: 0.2918 (0.2918)  loss_objectness: 0.0356 (0.0356)  loss_rpn_box_reg: 0.0246 (0.0246)  time: 0.5909  data: 0.0286  max mem: 4051\n",
            "Epoch: [1]  [10/52]  eta: 0:00:25  lr: 0.005000  loss: 0.3761 (0.4976)  loss_classifier: 0.1732 (0.1941)  loss_box_reg: 0.1975 (0.2261)  loss_objectness: 0.0440 (0.0603)  loss_rpn_box_reg: 0.0188 (0.0170)  time: 0.6123  data: 0.0459  max mem: 4051\n",
            "Epoch: [1]  [20/52]  eta: 0:00:20  lr: 0.005000  loss: 0.3847 (0.5004)  loss_classifier: 0.1732 (0.1935)  loss_box_reg: 0.1975 (0.2335)  loss_objectness: 0.0416 (0.0560)  loss_rpn_box_reg: 0.0165 (0.0175)  time: 0.6273  data: 0.0474  max mem: 4051\n",
            "Epoch: [1]  [30/52]  eta: 0:00:13  lr: 0.005000  loss: 0.4468 (0.4743)  loss_classifier: 0.1821 (0.1903)  loss_box_reg: 0.2280 (0.2190)  loss_objectness: 0.0360 (0.0501)  loss_rpn_box_reg: 0.0121 (0.0149)  time: 0.5960  data: 0.0382  max mem: 4051\n",
            "Epoch: [1]  [40/52]  eta: 0:00:07  lr: 0.005000  loss: 0.4837 (0.5312)  loss_classifier: 0.1896 (0.2083)  loss_box_reg: 0.2460 (0.2431)  loss_objectness: 0.0433 (0.0616)  loss_rpn_box_reg: 0.0130 (0.0183)  time: 0.6007  data: 0.0473  max mem: 4051\n",
            "Epoch: [1]  [50/52]  eta: 0:00:01  lr: 0.005000  loss: 0.6147 (0.5250)  loss_classifier: 0.2057 (0.2079)  loss_box_reg: 0.2523 (0.2355)  loss_objectness: 0.0558 (0.0637)  loss_rpn_box_reg: 0.0198 (0.0179)  time: 0.6663  data: 0.0660  max mem: 4051\n",
            "Epoch: [1]  [51/52]  eta: 0:00:00  lr: 0.005000  loss: 0.5335 (0.5214)  loss_classifier: 0.1918 (0.2069)  loss_box_reg: 0.2474 (0.2334)  loss_objectness: 0.0515 (0.0634)  loss_rpn_box_reg: 0.0192 (0.0178)  time: 0.6643  data: 0.0650  max mem: 4051\n",
            "Epoch: [1] Total time: 0:00:32 (0.6257 s / it)\n",
            "creating index...\n",
            "index created!\n",
            "Test:  [ 0/15]  eta: 0:00:04  model_time: 0.2246 (0.2246)  evaluator_time: 0.0247 (0.0247)  time: 0.2743  data: 0.0221  max mem: 4051\n",
            "Test:  [14/15]  eta: 0:00:00  model_time: 0.2386 (0.2375)  evaluator_time: 0.0089 (0.0138)  time: 0.2833  data: 0.0281  max mem: 4051\n",
            "Test: Total time: 0:00:04 (0.2834 s / it)\n",
            "Averaged stats: model_time: 0.2386 (0.2375)  evaluator_time: 0.0089 (0.0138)\n",
            "Accumulating evaluation results...\n",
            "DONE (t=0.02s).\n",
            "IoU metric: bbox\n",
            " Average Precision  (AP) @[ IoU=0.50:0.95 | area=   all | maxDets=100 ] = 0.223\n",
            " Average Precision  (AP) @[ IoU=0.50      | area=   all | maxDets=100 ] = 0.373\n",
            " Average Precision  (AP) @[ IoU=0.75      | area=   all | maxDets=100 ] = 0.250\n",
            " Average Precision  (AP) @[ IoU=0.50:0.95 | area= small | maxDets=100 ] = 0.000\n",
            " Average Precision  (AP) @[ IoU=0.50:0.95 | area=medium | maxDets=100 ] = 0.154\n",
            " Average Precision  (AP) @[ IoU=0.50:0.95 | area= large | maxDets=100 ] = 0.282\n",
            " Average Recall     (AR) @[ IoU=0.50:0.95 | area=   all | maxDets=  1 ] = 0.067\n",
            " Average Recall     (AR) @[ IoU=0.50:0.95 | area=   all | maxDets= 10 ] = 0.244\n",
            " Average Recall     (AR) @[ IoU=0.50:0.95 | area=   all | maxDets=100 ] = 0.289\n",
            " Average Recall     (AR) @[ IoU=0.50:0.95 | area= small | maxDets=100 ] = 0.000\n",
            " Average Recall     (AR) @[ IoU=0.50:0.95 | area=medium | maxDets=100 ] = 0.259\n",
            " Average Recall     (AR) @[ IoU=0.50:0.95 | area= large | maxDets=100 ] = 0.338\n",
            "Epoch: [2]  [ 0/52]  eta: 0:00:30  lr: 0.005000  loss: 0.3907 (0.3907)  loss_classifier: 0.1317 (0.1317)  loss_box_reg: 0.2123 (0.2123)  loss_objectness: 0.0377 (0.0377)  loss_rpn_box_reg: 0.0090 (0.0090)  time: 0.5960  data: 0.0702  max mem: 4051\n",
            "Epoch: [2]  [10/52]  eta: 0:00:26  lr: 0.005000  loss: 0.4228 (0.4445)  loss_classifier: 0.1793 (0.1811)  loss_box_reg: 0.2096 (0.2083)  loss_objectness: 0.0288 (0.0425)  loss_rpn_box_reg: 0.0110 (0.0127)  time: 0.6274  data: 0.0734  max mem: 4051\n",
            "Epoch: [2]  [20/52]  eta: 0:00:20  lr: 0.005000  loss: 0.3764 (0.4186)  loss_classifier: 0.1529 (0.1659)  loss_box_reg: 0.1698 (0.1727)  loss_objectness: 0.0284 (0.0644)  loss_rpn_box_reg: 0.0110 (0.0155)  time: 0.6390  data: 0.0570  max mem: 4051\n",
            "Epoch: [2]  [30/52]  eta: 0:00:13  lr: 0.005000  loss: 0.3245 (0.4082)  loss_classifier: 0.1394 (0.1643)  loss_box_reg: 0.1422 (0.1707)  loss_objectness: 0.0301 (0.0587)  loss_rpn_box_reg: 0.0132 (0.0146)  time: 0.6282  data: 0.0352  max mem: 4051\n",
            "Epoch: [2]  [40/52]  eta: 0:00:07  lr: 0.005000  loss: 0.3948 (0.4587)  loss_classifier: 0.1652 (0.1854)  loss_box_reg: 0.2117 (0.1992)  loss_objectness: 0.0378 (0.0580)  loss_rpn_box_reg: 0.0132 (0.0160)  time: 0.6286  data: 0.0389  max mem: 4051\n",
            "Epoch: [2]  [50/52]  eta: 0:00:01  lr: 0.005000  loss: 0.5283 (0.4701)  loss_classifier: 0.1819 (0.1890)  loss_box_reg: 0.2316 (0.2047)  loss_objectness: 0.0361 (0.0597)  loss_rpn_box_reg: 0.0128 (0.0167)  time: 0.6523  data: 0.0397  max mem: 4413\n",
            "Epoch: [2]  [51/52]  eta: 0:00:00  lr: 0.005000  loss: 0.4916 (0.4647)  loss_classifier: 0.1660 (0.1872)  loss_box_reg: 0.2292 (0.2018)  loss_objectness: 0.0327 (0.0592)  loss_rpn_box_reg: 0.0128 (0.0165)  time: 0.6502  data: 0.0397  max mem: 4413\n",
            "Epoch: [2] Total time: 0:00:33 (0.6366 s / it)\n",
            "creating index...\n",
            "index created!\n",
            "Test:  [ 0/15]  eta: 0:00:04  model_time: 0.2323 (0.2323)  evaluator_time: 0.0269 (0.0269)  time: 0.2946  data: 0.0311  max mem: 4413\n",
            "Test:  [14/15]  eta: 0:00:00  model_time: 0.2446 (0.2535)  evaluator_time: 0.0135 (0.0193)  time: 0.3051  data: 0.0284  max mem: 4413\n",
            "Test: Total time: 0:00:04 (0.3052 s / it)\n",
            "Averaged stats: model_time: 0.2446 (0.2535)  evaluator_time: 0.0135 (0.0193)\n",
            "Accumulating evaluation results...\n",
            "DONE (t=0.03s).\n",
            "IoU metric: bbox\n",
            " Average Precision  (AP) @[ IoU=0.50:0.95 | area=   all | maxDets=100 ] = 0.224\n",
            " Average Precision  (AP) @[ IoU=0.50      | area=   all | maxDets=100 ] = 0.389\n",
            " Average Precision  (AP) @[ IoU=0.75      | area=   all | maxDets=100 ] = 0.244\n",
            " Average Precision  (AP) @[ IoU=0.50:0.95 | area= small | maxDets=100 ] = 0.000\n",
            " Average Precision  (AP) @[ IoU=0.50:0.95 | area=medium | maxDets=100 ] = 0.163\n",
            " Average Precision  (AP) @[ IoU=0.50:0.95 | area= large | maxDets=100 ] = 0.279\n",
            " Average Recall     (AR) @[ IoU=0.50:0.95 | area=   all | maxDets=  1 ] = 0.067\n",
            " Average Recall     (AR) @[ IoU=0.50:0.95 | area=   all | maxDets= 10 ] = 0.232\n",
            " Average Recall     (AR) @[ IoU=0.50:0.95 | area=   all | maxDets=100 ] = 0.273\n",
            " Average Recall     (AR) @[ IoU=0.50:0.95 | area= small | maxDets=100 ] = 0.000\n",
            " Average Recall     (AR) @[ IoU=0.50:0.95 | area=medium | maxDets=100 ] = 0.235\n",
            " Average Recall     (AR) @[ IoU=0.50:0.95 | area= large | maxDets=100 ] = 0.324\n",
            "Epoch: [3]  [ 0/52]  eta: 0:00:34  lr: 0.000500  loss: 0.3195 (0.3195)  loss_classifier: 0.1167 (0.1167)  loss_box_reg: 0.1787 (0.1787)  loss_objectness: 0.0164 (0.0164)  loss_rpn_box_reg: 0.0078 (0.0078)  time: 0.6585  data: 0.0501  max mem: 4413\n",
            "Epoch: [3]  [10/52]  eta: 0:00:28  lr: 0.000500  loss: 0.2922 (0.3052)  loss_classifier: 0.1002 (0.1104)  loss_box_reg: 0.1460 (0.1605)  loss_objectness: 0.0247 (0.0246)  loss_rpn_box_reg: 0.0065 (0.0098)  time: 0.6679  data: 0.0514  max mem: 4413\n",
            "Epoch: [3]  [20/52]  eta: 0:00:21  lr: 0.000500  loss: 0.2644 (0.3555)  loss_classifier: 0.1002 (0.1395)  loss_box_reg: 0.1400 (0.1741)  loss_objectness: 0.0281 (0.0300)  loss_rpn_box_reg: 0.0068 (0.0119)  time: 0.6582  data: 0.0433  max mem: 4413\n",
            "Epoch: [3]  [30/52]  eta: 0:00:14  lr: 0.000500  loss: 0.5144 (0.4317)  loss_classifier: 0.2181 (0.1722)  loss_box_reg: 0.2282 (0.2095)  loss_objectness: 0.0404 (0.0352)  loss_rpn_box_reg: 0.0161 (0.0149)  time: 0.6612  data: 0.0535  max mem: 4413\n",
            "Epoch: [3]  [40/52]  eta: 0:00:07  lr: 0.000500  loss: 0.5131 (0.4303)  loss_classifier: 0.2181 (0.1756)  loss_box_reg: 0.2210 (0.2044)  loss_objectness: 0.0375 (0.0363)  loss_rpn_box_reg: 0.0115 (0.0139)  time: 0.6464  data: 0.0541  max mem: 4413\n",
            "Epoch: [3]  [50/52]  eta: 0:00:01  lr: 0.000500  loss: 0.4141 (0.4195)  loss_classifier: 0.1613 (0.1733)  loss_box_reg: 0.1930 (0.1979)  loss_objectness: 0.0297 (0.0352)  loss_rpn_box_reg: 0.0103 (0.0132)  time: 0.6196  data: 0.0355  max mem: 4413\n",
            "Epoch: [3]  [51/52]  eta: 0:00:00  lr: 0.000500  loss: 0.4141 (0.4186)  loss_classifier: 0.1650 (0.1736)  loss_box_reg: 0.1930 (0.1970)  loss_objectness: 0.0297 (0.0350)  loss_rpn_box_reg: 0.0103 (0.0131)  time: 0.6242  data: 0.0355  max mem: 4413\n",
            "Epoch: [3] Total time: 0:00:33 (0.6463 s / it)\n",
            "creating index...\n",
            "index created!\n",
            "Test:  [ 0/15]  eta: 0:00:04  model_time: 0.2566 (0.2566)  evaluator_time: 0.0049 (0.0049)  time: 0.2915  data: 0.0262  max mem: 4413\n",
            "Test:  [14/15]  eta: 0:00:00  model_time: 0.2518 (0.2432)  evaluator_time: 0.0109 (0.0179)  time: 0.2931  data: 0.0281  max mem: 4413\n",
            "Test: Total time: 0:00:04 (0.2932 s / it)\n",
            "Averaged stats: model_time: 0.2518 (0.2432)  evaluator_time: 0.0109 (0.0179)\n",
            "Accumulating evaluation results...\n",
            "DONE (t=0.02s).\n",
            "IoU metric: bbox\n",
            " Average Precision  (AP) @[ IoU=0.50:0.95 | area=   all | maxDets=100 ] = 0.255\n",
            " Average Precision  (AP) @[ IoU=0.50      | area=   all | maxDets=100 ] = 0.393\n",
            " Average Precision  (AP) @[ IoU=0.75      | area=   all | maxDets=100 ] = 0.328\n",
            " Average Precision  (AP) @[ IoU=0.50:0.95 | area= small | maxDets=100 ] = 0.000\n",
            " Average Precision  (AP) @[ IoU=0.50:0.95 | area=medium | maxDets=100 ] = 0.174\n",
            " Average Precision  (AP) @[ IoU=0.50:0.95 | area= large | maxDets=100 ] = 0.325\n",
            " Average Recall     (AR) @[ IoU=0.50:0.95 | area=   all | maxDets=  1 ] = 0.075\n",
            " Average Recall     (AR) @[ IoU=0.50:0.95 | area=   all | maxDets= 10 ] = 0.259\n",
            " Average Recall     (AR) @[ IoU=0.50:0.95 | area=   all | maxDets=100 ] = 0.301\n",
            " Average Recall     (AR) @[ IoU=0.50:0.95 | area= small | maxDets=100 ] = 0.000\n",
            " Average Recall     (AR) @[ IoU=0.50:0.95 | area=medium | maxDets=100 ] = 0.236\n",
            " Average Recall     (AR) @[ IoU=0.50:0.95 | area= large | maxDets=100 ] = 0.372\n",
            "Epoch: [4]  [ 0/52]  eta: 0:00:29  lr: 0.000500  loss: 0.3186 (0.3186)  loss_classifier: 0.1258 (0.1258)  loss_box_reg: 0.1680 (0.1680)  loss_objectness: 0.0180 (0.0180)  loss_rpn_box_reg: 0.0069 (0.0069)  time: 0.5687  data: 0.0340  max mem: 4413\n",
            "Epoch: [4]  [10/52]  eta: 0:00:27  lr: 0.000500  loss: 0.2529 (0.3720)  loss_classifier: 0.0994 (0.1577)  loss_box_reg: 0.1401 (0.1762)  loss_objectness: 0.0180 (0.0258)  loss_rpn_box_reg: 0.0036 (0.0124)  time: 0.6522  data: 0.0503  max mem: 4413\n",
            "Epoch: [4]  [20/52]  eta: 0:00:20  lr: 0.000500  loss: 0.3393 (0.4133)  loss_classifier: 0.1349 (0.1733)  loss_box_reg: 0.1401 (0.1936)  loss_objectness: 0.0240 (0.0345)  loss_rpn_box_reg: 0.0058 (0.0120)  time: 0.6555  data: 0.0550  max mem: 4413\n",
            "Epoch: [4]  [30/52]  eta: 0:00:14  lr: 0.000500  loss: 0.2881 (0.3767)  loss_classifier: 0.1112 (0.1583)  loss_box_reg: 0.1405 (0.1774)  loss_objectness: 0.0211 (0.0308)  loss_rpn_box_reg: 0.0060 (0.0103)  time: 0.6498  data: 0.0489  max mem: 4413\n",
            "Epoch: [4]  [40/52]  eta: 0:00:07  lr: 0.000500  loss: 0.2886 (0.3877)  loss_classifier: 0.1112 (0.1622)  loss_box_reg: 0.1519 (0.1796)  loss_objectness: 0.0207 (0.0342)  loss_rpn_box_reg: 0.0091 (0.0117)  time: 0.6652  data: 0.0448  max mem: 4413\n",
            "Epoch: [4]  [50/52]  eta: 0:00:01  lr: 0.000500  loss: 0.3093 (0.3684)  loss_classifier: 0.1477 (0.1553)  loss_box_reg: 0.1492 (0.1712)  loss_objectness: 0.0191 (0.0311)  loss_rpn_box_reg: 0.0094 (0.0108)  time: 0.6579  data: 0.0410  max mem: 4413\n",
            "Epoch: [4]  [51/52]  eta: 0:00:00  lr: 0.000500  loss: 0.3129 (0.3749)  loss_classifier: 0.1480 (0.1581)  loss_box_reg: 0.1498 (0.1742)  loss_objectness: 0.0203 (0.0315)  loss_rpn_box_reg: 0.0095 (0.0111)  time: 0.6507  data: 0.0430  max mem: 4413\n",
            "Epoch: [4] Total time: 0:00:33 (0.6527 s / it)\n",
            "creating index...\n",
            "index created!\n",
            "Test:  [ 0/15]  eta: 0:00:04  model_time: 0.2549 (0.2549)  evaluator_time: 0.0202 (0.0202)  time: 0.3150  data: 0.0349  max mem: 4413\n",
            "Test:  [14/15]  eta: 0:00:00  model_time: 0.2524 (0.2586)  evaluator_time: 0.0090 (0.0161)  time: 0.3066  data: 0.0279  max mem: 4413\n",
            "Test: Total time: 0:00:04 (0.3067 s / it)\n",
            "Averaged stats: model_time: 0.2524 (0.2586)  evaluator_time: 0.0090 (0.0161)\n",
            "Accumulating evaluation results...\n",
            "DONE (t=0.02s).\n",
            "IoU metric: bbox\n",
            " Average Precision  (AP) @[ IoU=0.50:0.95 | area=   all | maxDets=100 ] = 0.261\n",
            " Average Precision  (AP) @[ IoU=0.50      | area=   all | maxDets=100 ] = 0.402\n",
            " Average Precision  (AP) @[ IoU=0.75      | area=   all | maxDets=100 ] = 0.328\n",
            " Average Precision  (AP) @[ IoU=0.50:0.95 | area= small | maxDets=100 ] = 0.000\n",
            " Average Precision  (AP) @[ IoU=0.50:0.95 | area=medium | maxDets=100 ] = 0.182\n",
            " Average Precision  (AP) @[ IoU=0.50:0.95 | area= large | maxDets=100 ] = 0.331\n",
            " Average Recall     (AR) @[ IoU=0.50:0.95 | area=   all | maxDets=  1 ] = 0.076\n",
            " Average Recall     (AR) @[ IoU=0.50:0.95 | area=   all | maxDets= 10 ] = 0.263\n",
            " Average Recall     (AR) @[ IoU=0.50:0.95 | area=   all | maxDets=100 ] = 0.305\n",
            " Average Recall     (AR) @[ IoU=0.50:0.95 | area= small | maxDets=100 ] = 0.000\n",
            " Average Recall     (AR) @[ IoU=0.50:0.95 | area=medium | maxDets=100 ] = 0.237\n",
            " Average Recall     (AR) @[ IoU=0.50:0.95 | area= large | maxDets=100 ] = 0.377\n",
            "Epoch: [5]  [ 0/52]  eta: 0:00:31  lr: 0.000500  loss: 0.8854 (0.8854)  loss_classifier: 0.3873 (0.3873)  loss_box_reg: 0.4155 (0.4155)  loss_objectness: 0.0623 (0.0623)  loss_rpn_box_reg: 0.0203 (0.0203)  time: 0.6120  data: 0.0664  max mem: 4413\n",
            "Epoch: [5]  [10/52]  eta: 0:00:27  lr: 0.000500  loss: 0.2659 (0.4366)  loss_classifier: 0.1098 (0.1826)  loss_box_reg: 0.1308 (0.2072)  loss_objectness: 0.0218 (0.0331)  loss_rpn_box_reg: 0.0098 (0.0137)  time: 0.6490  data: 0.0374  max mem: 4413\n",
            "Epoch: [5]  [20/52]  eta: 0:00:20  lr: 0.000500  loss: 0.3164 (0.4245)  loss_classifier: 0.1219 (0.1796)  loss_box_reg: 0.1487 (0.2021)  loss_objectness: 0.0218 (0.0301)  loss_rpn_box_reg: 0.0065 (0.0127)  time: 0.6525  data: 0.0431  max mem: 4413\n",
            "Epoch: [5]  [30/52]  eta: 0:00:14  lr: 0.000500  loss: 0.2970 (0.3925)  loss_classifier: 0.1300 (0.1650)  loss_box_reg: 0.1388 (0.1883)  loss_objectness: 0.0229 (0.0281)  loss_rpn_box_reg: 0.0055 (0.0111)  time: 0.6833  data: 0.0407  max mem: 4413\n",
            "Epoch: [5]  [40/52]  eta: 0:00:08  lr: 0.000500  loss: 0.2499 (0.3845)  loss_classifier: 0.0952 (0.1625)  loss_box_reg: 0.1329 (0.1832)  loss_objectness: 0.0229 (0.0277)  loss_rpn_box_reg: 0.0072 (0.0110)  time: 0.7047  data: 0.0561  max mem: 4413\n",
            "Epoch: [5]  [50/52]  eta: 0:00:01  lr: 0.000500  loss: 0.3224 (0.3803)  loss_classifier: 0.1314 (0.1620)  loss_box_reg: 0.1468 (0.1794)  loss_objectness: 0.0239 (0.0278)  loss_rpn_box_reg: 0.0096 (0.0112)  time: 0.6506  data: 0.0569  max mem: 4413\n",
            "Epoch: [5]  [51/52]  eta: 0:00:00  lr: 0.000500  loss: 0.3224 (0.3819)  loss_classifier: 0.1314 (0.1631)  loss_box_reg: 0.1468 (0.1798)  loss_objectness: 0.0239 (0.0279)  loss_rpn_box_reg: 0.0088 (0.0111)  time: 0.6183  data: 0.0329  max mem: 4413\n",
            "Epoch: [5] Total time: 0:00:34 (0.6630 s / it)\n",
            "creating index...\n",
            "index created!\n",
            "Test:  [ 0/15]  eta: 0:00:04  model_time: 0.2322 (0.2322)  evaluator_time: 0.0226 (0.0226)  time: 0.2910  data: 0.0317  max mem: 4413\n",
            "Test:  [14/15]  eta: 0:00:00  model_time: 0.2546 (0.2621)  evaluator_time: 0.0116 (0.0163)  time: 0.3113  data: 0.0290  max mem: 4413\n",
            "Test: Total time: 0:00:04 (0.3114 s / it)\n",
            "Averaged stats: model_time: 0.2546 (0.2621)  evaluator_time: 0.0116 (0.0163)\n",
            "Accumulating evaluation results...\n",
            "DONE (t=0.02s).\n",
            "IoU metric: bbox\n",
            " Average Precision  (AP) @[ IoU=0.50:0.95 | area=   all | maxDets=100 ] = 0.262\n",
            " Average Precision  (AP) @[ IoU=0.50      | area=   all | maxDets=100 ] = 0.402\n",
            " Average Precision  (AP) @[ IoU=0.75      | area=   all | maxDets=100 ] = 0.323\n",
            " Average Precision  (AP) @[ IoU=0.50:0.95 | area= small | maxDets=100 ] = 0.000\n",
            " Average Precision  (AP) @[ IoU=0.50:0.95 | area=medium | maxDets=100 ] = 0.181\n",
            " Average Precision  (AP) @[ IoU=0.50:0.95 | area= large | maxDets=100 ] = 0.330\n",
            " Average Recall     (AR) @[ IoU=0.50:0.95 | area=   all | maxDets=  1 ] = 0.074\n",
            " Average Recall     (AR) @[ IoU=0.50:0.95 | area=   all | maxDets= 10 ] = 0.263\n",
            " Average Recall     (AR) @[ IoU=0.50:0.95 | area=   all | maxDets=100 ] = 0.305\n",
            " Average Recall     (AR) @[ IoU=0.50:0.95 | area= small | maxDets=100 ] = 0.000\n",
            " Average Recall     (AR) @[ IoU=0.50:0.95 | area=medium | maxDets=100 ] = 0.240\n",
            " Average Recall     (AR) @[ IoU=0.50:0.95 | area= large | maxDets=100 ] = 0.375\n",
            "Epoch: [6]  [ 0/52]  eta: 0:00:35  lr: 0.000050  loss: 0.7322 (0.7322)  loss_classifier: 0.3109 (0.3109)  loss_box_reg: 0.3008 (0.3008)  loss_objectness: 0.0860 (0.0860)  loss_rpn_box_reg: 0.0344 (0.0344)  time: 0.6839  data: 0.0772  max mem: 4413\n",
            "Epoch: [6]  [10/52]  eta: 0:00:28  lr: 0.000050  loss: 0.4340 (0.4158)  loss_classifier: 0.1863 (0.1809)  loss_box_reg: 0.1910 (0.1890)  loss_objectness: 0.0355 (0.0348)  loss_rpn_box_reg: 0.0079 (0.0111)  time: 0.6699  data: 0.0403  max mem: 4413\n",
            "Epoch: [6]  [20/52]  eta: 0:00:20  lr: 0.000050  loss: 0.3962 (0.4401)  loss_classifier: 0.1592 (0.1844)  loss_box_reg: 0.1899 (0.2082)  loss_objectness: 0.0301 (0.0349)  loss_rpn_box_reg: 0.0095 (0.0125)  time: 0.6390  data: 0.0365  max mem: 4413\n",
            "Epoch: [6]  [30/52]  eta: 0:00:14  lr: 0.000050  loss: 0.3529 (0.4327)  loss_classifier: 0.1369 (0.1874)  loss_box_reg: 0.1583 (0.1990)  loss_objectness: 0.0213 (0.0333)  loss_rpn_box_reg: 0.0095 (0.0130)  time: 0.6373  data: 0.0478  max mem: 4413\n",
            "Epoch: [6]  [40/52]  eta: 0:00:07  lr: 0.000050  loss: 0.3075 (0.4313)  loss_classifier: 0.1547 (0.1879)  loss_box_reg: 0.1421 (0.1985)  loss_objectness: 0.0171 (0.0325)  loss_rpn_box_reg: 0.0079 (0.0124)  time: 0.6583  data: 0.0447  max mem: 4413\n",
            "Epoch: [6]  [50/52]  eta: 0:00:01  lr: 0.000050  loss: 0.2545 (0.4079)  loss_classifier: 0.1179 (0.1775)  loss_box_reg: 0.1258 (0.1878)  loss_objectness: 0.0182 (0.0311)  loss_rpn_box_reg: 0.0068 (0.0115)  time: 0.6758  data: 0.0498  max mem: 4413\n",
            "Epoch: [6]  [51/52]  eta: 0:00:00  lr: 0.000050  loss: 0.2545 (0.4095)  loss_classifier: 0.1179 (0.1784)  loss_box_reg: 0.1258 (0.1881)  loss_objectness: 0.0182 (0.0314)  loss_rpn_box_reg: 0.0068 (0.0116)  time: 0.6782  data: 0.0496  max mem: 4413\n",
            "Epoch: [6] Total time: 0:00:34 (0.6587 s / it)\n",
            "creating index...\n",
            "index created!\n",
            "Test:  [ 0/15]  eta: 0:00:04  model_time: 0.2299 (0.2299)  evaluator_time: 0.0117 (0.0117)  time: 0.2778  data: 0.0317  max mem: 4413\n",
            "Test:  [14/15]  eta: 0:00:00  model_time: 0.2390 (0.2448)  evaluator_time: 0.0080 (0.0166)  time: 0.2937  data: 0.0284  max mem: 4413\n",
            "Test: Total time: 0:00:04 (0.2938 s / it)\n",
            "Averaged stats: model_time: 0.2390 (0.2448)  evaluator_time: 0.0080 (0.0166)\n",
            "Accumulating evaluation results...\n",
            "DONE (t=0.02s).\n",
            "IoU metric: bbox\n",
            " Average Precision  (AP) @[ IoU=0.50:0.95 | area=   all | maxDets=100 ] = 0.268\n",
            " Average Precision  (AP) @[ IoU=0.50      | area=   all | maxDets=100 ] = 0.407\n",
            " Average Precision  (AP) @[ IoU=0.75      | area=   all | maxDets=100 ] = 0.322\n",
            " Average Precision  (AP) @[ IoU=0.50:0.95 | area= small | maxDets=100 ] = 0.000\n",
            " Average Precision  (AP) @[ IoU=0.50:0.95 | area=medium | maxDets=100 ] = 0.188\n",
            " Average Precision  (AP) @[ IoU=0.50:0.95 | area= large | maxDets=100 ] = 0.336\n",
            " Average Recall     (AR) @[ IoU=0.50:0.95 | area=   all | maxDets=  1 ] = 0.076\n",
            " Average Recall     (AR) @[ IoU=0.50:0.95 | area=   all | maxDets= 10 ] = 0.269\n",
            " Average Recall     (AR) @[ IoU=0.50:0.95 | area=   all | maxDets=100 ] = 0.313\n",
            " Average Recall     (AR) @[ IoU=0.50:0.95 | area= small | maxDets=100 ] = 0.000\n",
            " Average Recall     (AR) @[ IoU=0.50:0.95 | area=medium | maxDets=100 ] = 0.254\n",
            " Average Recall     (AR) @[ IoU=0.50:0.95 | area= large | maxDets=100 ] = 0.380\n",
            "Epoch: [7]  [ 0/52]  eta: 0:00:32  lr: 0.000050  loss: 0.2410 (0.2410)  loss_classifier: 0.0846 (0.0846)  loss_box_reg: 0.1219 (0.1219)  loss_objectness: 0.0282 (0.0282)  loss_rpn_box_reg: 0.0062 (0.0062)  time: 0.6206  data: 0.0255  max mem: 4413\n",
            "Epoch: [7]  [10/52]  eta: 0:00:26  lr: 0.000050  loss: 0.3718 (0.4915)  loss_classifier: 0.1510 (0.2077)  loss_box_reg: 0.2017 (0.2341)  loss_objectness: 0.0282 (0.0354)  loss_rpn_box_reg: 0.0068 (0.0143)  time: 0.6260  data: 0.0417  max mem: 4413\n",
            "Epoch: [7]  [20/52]  eta: 0:00:21  lr: 0.000050  loss: 0.3679 (0.4621)  loss_classifier: 0.1435 (0.1891)  loss_box_reg: 0.2017 (0.2269)  loss_objectness: 0.0218 (0.0328)  loss_rpn_box_reg: 0.0068 (0.0134)  time: 0.6706  data: 0.0616  max mem: 4413\n",
            "Epoch: [7]  [30/52]  eta: 0:00:14  lr: 0.000050  loss: 0.3304 (0.4324)  loss_classifier: 0.1377 (0.1773)  loss_box_reg: 0.1532 (0.2101)  loss_objectness: 0.0242 (0.0325)  loss_rpn_box_reg: 0.0076 (0.0124)  time: 0.6653  data: 0.0597  max mem: 4413\n",
            "Epoch: [7]  [40/52]  eta: 0:00:07  lr: 0.000050  loss: 0.3514 (0.4215)  loss_classifier: 0.1503 (0.1752)  loss_box_reg: 0.1690 (0.2028)  loss_objectness: 0.0305 (0.0315)  loss_rpn_box_reg: 0.0076 (0.0121)  time: 0.6244  data: 0.0389  max mem: 4413\n",
            "Epoch: [7]  [50/52]  eta: 0:00:01  lr: 0.000050  loss: 0.3865 (0.4272)  loss_classifier: 0.1642 (0.1793)  loss_box_reg: 0.1690 (0.2017)  loss_objectness: 0.0240 (0.0332)  loss_rpn_box_reg: 0.0083 (0.0129)  time: 0.6252  data: 0.0384  max mem: 4413\n",
            "Epoch: [7]  [51/52]  eta: 0:00:00  lr: 0.000050  loss: 0.3865 (0.4224)  loss_classifier: 0.1642 (0.1777)  loss_box_reg: 0.1690 (0.1988)  loss_objectness: 0.0268 (0.0331)  loss_rpn_box_reg: 0.0083 (0.0128)  time: 0.6273  data: 0.0377  max mem: 4413\n",
            "Epoch: [7] Total time: 0:00:33 (0.6446 s / it)\n",
            "creating index...\n",
            "index created!\n",
            "Test:  [ 0/15]  eta: 0:00:04  model_time: 0.2386 (0.2386)  evaluator_time: 0.0145 (0.0145)  time: 0.3020  data: 0.0436  max mem: 4413\n",
            "Test:  [14/15]  eta: 0:00:00  model_time: 0.2523 (0.2535)  evaluator_time: 0.0128 (0.0166)  time: 0.3029  data: 0.0288  max mem: 4413\n",
            "Test: Total time: 0:00:04 (0.3030 s / it)\n",
            "Averaged stats: model_time: 0.2523 (0.2535)  evaluator_time: 0.0128 (0.0166)\n",
            "Accumulating evaluation results...\n",
            "DONE (t=0.02s).\n",
            "IoU metric: bbox\n",
            " Average Precision  (AP) @[ IoU=0.50:0.95 | area=   all | maxDets=100 ] = 0.262\n",
            " Average Precision  (AP) @[ IoU=0.50      | area=   all | maxDets=100 ] = 0.406\n",
            " Average Precision  (AP) @[ IoU=0.75      | area=   all | maxDets=100 ] = 0.320\n",
            " Average Precision  (AP) @[ IoU=0.50:0.95 | area= small | maxDets=100 ] = 0.000\n",
            " Average Precision  (AP) @[ IoU=0.50:0.95 | area=medium | maxDets=100 ] = 0.180\n",
            " Average Precision  (AP) @[ IoU=0.50:0.95 | area= large | maxDets=100 ] = 0.331\n",
            " Average Recall     (AR) @[ IoU=0.50:0.95 | area=   all | maxDets=  1 ] = 0.075\n",
            " Average Recall     (AR) @[ IoU=0.50:0.95 | area=   all | maxDets= 10 ] = 0.264\n",
            " Average Recall     (AR) @[ IoU=0.50:0.95 | area=   all | maxDets=100 ] = 0.306\n",
            " Average Recall     (AR) @[ IoU=0.50:0.95 | area= small | maxDets=100 ] = 0.000\n",
            " Average Recall     (AR) @[ IoU=0.50:0.95 | area=medium | maxDets=100 ] = 0.242\n",
            " Average Recall     (AR) @[ IoU=0.50:0.95 | area= large | maxDets=100 ] = 0.376\n",
            "Epoch: [8]  [ 0/52]  eta: 0:00:33  lr: 0.000050  loss: 0.4736 (0.4736)  loss_classifier: 0.1835 (0.1835)  loss_box_reg: 0.2422 (0.2422)  loss_objectness: 0.0350 (0.0350)  loss_rpn_box_reg: 0.0129 (0.0129)  time: 0.6413  data: 0.0627  max mem: 4413\n",
            "Epoch: [8]  [10/52]  eta: 0:00:26  lr: 0.000050  loss: 0.3416 (0.4175)  loss_classifier: 0.1544 (0.1858)  loss_box_reg: 0.1591 (0.1875)  loss_objectness: 0.0299 (0.0308)  loss_rpn_box_reg: 0.0066 (0.0134)  time: 0.6258  data: 0.0488  max mem: 4413\n",
            "Epoch: [8]  [20/52]  eta: 0:00:20  lr: 0.000050  loss: 0.3291 (0.3898)  loss_classifier: 0.1521 (0.1717)  loss_box_reg: 0.1515 (0.1763)  loss_objectness: 0.0295 (0.0308)  loss_rpn_box_reg: 0.0065 (0.0111)  time: 0.6336  data: 0.0401  max mem: 4413\n",
            "Epoch: [8]  [30/52]  eta: 0:00:14  lr: 0.000050  loss: 0.3164 (0.3717)  loss_classifier: 0.1265 (0.1602)  loss_box_reg: 0.1338 (0.1711)  loss_objectness: 0.0211 (0.0295)  loss_rpn_box_reg: 0.0073 (0.0108)  time: 0.6728  data: 0.0469  max mem: 4413\n",
            "Epoch: [8]  [40/52]  eta: 0:00:07  lr: 0.000050  loss: 0.3198 (0.3745)  loss_classifier: 0.1459 (0.1601)  loss_box_reg: 0.1564 (0.1711)  loss_objectness: 0.0264 (0.0318)  loss_rpn_box_reg: 0.0087 (0.0115)  time: 0.6644  data: 0.0579  max mem: 4413\n",
            "Epoch: [8]  [50/52]  eta: 0:00:01  lr: 0.000050  loss: 0.3549 (0.3903)  loss_classifier: 0.1549 (0.1662)  loss_box_reg: 0.1915 (0.1808)  loss_objectness: 0.0258 (0.0314)  loss_rpn_box_reg: 0.0117 (0.0119)  time: 0.6370  data: 0.0422  max mem: 4413\n",
            "Epoch: [8]  [51/52]  eta: 0:00:00  lr: 0.000050  loss: 0.3549 (0.3872)  loss_classifier: 0.1549 (0.1651)  loss_box_reg: 0.1623 (0.1790)  loss_objectness: 0.0267 (0.0313)  loss_rpn_box_reg: 0.0117 (0.0118)  time: 0.6267  data: 0.0333  max mem: 4413\n",
            "Epoch: [8] Total time: 0:00:33 (0.6471 s / it)\n",
            "creating index...\n",
            "index created!\n",
            "Test:  [ 0/15]  eta: 0:00:04  model_time: 0.2743 (0.2743)  evaluator_time: 0.0048 (0.0048)  time: 0.3015  data: 0.0198  max mem: 4413\n",
            "Test:  [14/15]  eta: 0:00:00  model_time: 0.2527 (0.2676)  evaluator_time: 0.0106 (0.0165)  time: 0.3164  data: 0.0284  max mem: 4413\n",
            "Test: Total time: 0:00:04 (0.3165 s / it)\n",
            "Averaged stats: model_time: 0.2527 (0.2676)  evaluator_time: 0.0106 (0.0165)\n",
            "Accumulating evaluation results...\n",
            "DONE (t=0.02s).\n",
            "IoU metric: bbox\n",
            " Average Precision  (AP) @[ IoU=0.50:0.95 | area=   all | maxDets=100 ] = 0.265\n",
            " Average Precision  (AP) @[ IoU=0.50      | area=   all | maxDets=100 ] = 0.406\n",
            " Average Precision  (AP) @[ IoU=0.75      | area=   all | maxDets=100 ] = 0.319\n",
            " Average Precision  (AP) @[ IoU=0.50:0.95 | area= small | maxDets=100 ] = 0.000\n",
            " Average Precision  (AP) @[ IoU=0.50:0.95 | area=medium | maxDets=100 ] = 0.182\n",
            " Average Precision  (AP) @[ IoU=0.50:0.95 | area= large | maxDets=100 ] = 0.334\n",
            " Average Recall     (AR) @[ IoU=0.50:0.95 | area=   all | maxDets=  1 ] = 0.075\n",
            " Average Recall     (AR) @[ IoU=0.50:0.95 | area=   all | maxDets= 10 ] = 0.265\n",
            " Average Recall     (AR) @[ IoU=0.50:0.95 | area=   all | maxDets=100 ] = 0.308\n",
            " Average Recall     (AR) @[ IoU=0.50:0.95 | area= small | maxDets=100 ] = 0.000\n",
            " Average Recall     (AR) @[ IoU=0.50:0.95 | area=medium | maxDets=100 ] = 0.242\n",
            " Average Recall     (AR) @[ IoU=0.50:0.95 | area= large | maxDets=100 ] = 0.378\n",
            "Epoch: [9]  [ 0/52]  eta: 0:00:32  lr: 0.000005  loss: 0.4172 (0.4172)  loss_classifier: 0.1518 (0.1518)  loss_box_reg: 0.2396 (0.2396)  loss_objectness: 0.0190 (0.0190)  loss_rpn_box_reg: 0.0068 (0.0068)  time: 0.6340  data: 0.0310  max mem: 4413\n",
            "Epoch: [9]  [10/52]  eta: 0:00:25  lr: 0.000005  loss: 0.3805 (0.4517)  loss_classifier: 0.1408 (0.1827)  loss_box_reg: 0.2061 (0.2128)  loss_objectness: 0.0273 (0.0438)  loss_rpn_box_reg: 0.0089 (0.0123)  time: 0.6119  data: 0.0355  max mem: 4413\n",
            "Epoch: [9]  [20/52]  eta: 0:00:19  lr: 0.000005  loss: 0.3157 (0.4330)  loss_classifier: 0.1306 (0.1793)  loss_box_reg: 0.1717 (0.2029)  loss_objectness: 0.0263 (0.0384)  loss_rpn_box_reg: 0.0089 (0.0123)  time: 0.6131  data: 0.0349  max mem: 4413\n",
            "Epoch: [9]  [30/52]  eta: 0:00:14  lr: 0.000005  loss: 0.3568 (0.4326)  loss_classifier: 0.1605 (0.1797)  loss_box_reg: 0.1659 (0.2042)  loss_objectness: 0.0263 (0.0360)  loss_rpn_box_reg: 0.0106 (0.0127)  time: 0.6671  data: 0.0562  max mem: 4413\n",
            "Epoch: [9]  [40/52]  eta: 0:00:07  lr: 0.000005  loss: 0.4361 (0.4322)  loss_classifier: 0.1749 (0.1814)  loss_box_reg: 0.1949 (0.2029)  loss_objectness: 0.0304 (0.0352)  loss_rpn_box_reg: 0.0137 (0.0126)  time: 0.7075  data: 0.0651  max mem: 4413\n",
            "Epoch: [9]  [50/52]  eta: 0:00:01  lr: 0.000005  loss: 0.3925 (0.4191)  loss_classifier: 0.1775 (0.1791)  loss_box_reg: 0.1663 (0.1936)  loss_objectness: 0.0274 (0.0340)  loss_rpn_box_reg: 0.0110 (0.0124)  time: 0.6701  data: 0.0426  max mem: 4413\n",
            "Epoch: [9]  [51/52]  eta: 0:00:00  lr: 0.000005  loss: 0.3727 (0.4142)  loss_classifier: 0.1749 (0.1767)  loss_box_reg: 0.1663 (0.1917)  loss_objectness: 0.0265 (0.0336)  loss_rpn_box_reg: 0.0097 (0.0121)  time: 0.6694  data: 0.0426  max mem: 4413\n",
            "Epoch: [9] Total time: 0:00:34 (0.6560 s / it)\n",
            "creating index...\n",
            "index created!\n",
            "Test:  [ 0/15]  eta: 0:00:05  model_time: 0.2545 (0.2545)  evaluator_time: 0.0752 (0.0752)  time: 0.3769  data: 0.0416  max mem: 4413\n",
            "Test:  [14/15]  eta: 0:00:00  model_time: 0.2543 (0.2616)  evaluator_time: 0.0117 (0.0166)  time: 0.3100  data: 0.0278  max mem: 4413\n",
            "Test: Total time: 0:00:04 (0.3101 s / it)\n",
            "Averaged stats: model_time: 0.2543 (0.2616)  evaluator_time: 0.0117 (0.0166)\n",
            "Accumulating evaluation results...\n",
            "DONE (t=0.02s).\n",
            "IoU metric: bbox\n",
            " Average Precision  (AP) @[ IoU=0.50:0.95 | area=   all | maxDets=100 ] = 0.264\n",
            " Average Precision  (AP) @[ IoU=0.50      | area=   all | maxDets=100 ] = 0.406\n",
            " Average Precision  (AP) @[ IoU=0.75      | area=   all | maxDets=100 ] = 0.319\n",
            " Average Precision  (AP) @[ IoU=0.50:0.95 | area= small | maxDets=100 ] = 0.000\n",
            " Average Precision  (AP) @[ IoU=0.50:0.95 | area=medium | maxDets=100 ] = 0.182\n",
            " Average Precision  (AP) @[ IoU=0.50:0.95 | area= large | maxDets=100 ] = 0.333\n",
            " Average Recall     (AR) @[ IoU=0.50:0.95 | area=   all | maxDets=  1 ] = 0.075\n",
            " Average Recall     (AR) @[ IoU=0.50:0.95 | area=   all | maxDets= 10 ] = 0.264\n",
            " Average Recall     (AR) @[ IoU=0.50:0.95 | area=   all | maxDets=100 ] = 0.306\n",
            " Average Recall     (AR) @[ IoU=0.50:0.95 | area= small | maxDets=100 ] = 0.000\n",
            " Average Recall     (AR) @[ IoU=0.50:0.95 | area=medium | maxDets=100 ] = 0.242\n",
            " Average Recall     (AR) @[ IoU=0.50:0.95 | area= large | maxDets=100 ] = 0.376\n"
          ]
        }
      ]
    },
    {
      "cell_type": "code",
      "source": [
        ""
      ],
      "metadata": {
        "id": "YSEck8-HayNo"
      },
      "execution_count": null,
      "outputs": []
    }
  ]
}